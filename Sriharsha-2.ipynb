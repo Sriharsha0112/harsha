{
 "cells": [
  {
   "cell_type": "markdown",
   "id": "20d7aeb3",
   "metadata": {},
   "source": [
    "# Q1"
   ]
  },
  {
   "cell_type": "code",
   "execution_count": 40,
   "id": "b587c0c2",
   "metadata": {},
   "outputs": [
    {
     "name": "stdout",
     "output_type": "stream",
     "text": [
      "[19, 22, 19, 24, 20, 25, 26, 24, 25, 24]\n"
     ]
    }
   ],
   "source": [
    "ages = [19, 22, 19, 24, 20, 25, 26, 24, 25, 24] #printing ages from the list\n",
    "print (ages)"
   ]
  },
  {
   "cell_type": "code",
   "execution_count": 10,
   "id": "410bd9ed",
   "metadata": {},
   "outputs": [
    {
     "name": "stdout",
     "output_type": "stream",
     "text": [
      "sorted list of ages= [19, 19, 20, 22, 24, 24, 24, 25, 25, 26]\n",
      "min age= 19\n",
      "max age= 26\n",
      "median of ages= 24.0\n",
      "average of ages= 22.8\n",
      "19 20 21 22 23 24 25 "
     ]
    }
   ],
   "source": [
    "import statistics \n",
    "ages.sort()\n",
    "print(\"sorted list of ages=\",ages) #printing the sorted ages\n",
    "\n",
    "minimum=min(ages)\n",
    "print(\"min age=\",minimum) #printing the minimum age\n",
    "\n",
    "X = len(ages)\n",
    "maximum= ages[a-1]\n",
    "print(\"max age=\",ages[a-1]) #printing the maximum age\n",
    "import statistics\n",
    "median= statistics.median(ages)\n",
    "print(\"median of ages=\",median) #printing the median of ages\n",
    "\n",
    "mean= statistics.mean(ages)\n",
    "print(\"average of ages=\",mean) #printing average of ages\n",
    "\n",
    "import numpy as np #importing numpy library\n",
    "for ages in np.arange(19,26):\n",
    "    print(ages, end=' ') #printing the range of ages\n",
    "\n",
    "\n",
    "\n"
   ]
  },
  {
   "cell_type": "markdown",
   "id": "95389725",
   "metadata": {},
   "source": [
    "# Q2"
   ]
  },
  {
   "cell_type": "code",
   "execution_count": 11,
   "id": "b054daf3",
   "metadata": {
    "scrolled": true
   },
   "outputs": [
    {
     "name": "stdout",
     "output_type": "stream",
     "text": [
      "{'Dog_name': None, 'Dog_color': None, 'Dog_Bread': None, 'Legs': None, 'Age': None}\n",
      "{'first_name': 'Sriharsha', 'last_name': 'Kata', 'Gender': 'Female', 'age': 22, 'Marital_status': False, 'skills': ['JavaScript', 'Html', 'Python'], 'country': 'USA', 'city': ['Overland park'], 'address': {'street': 'Craig street', 'zipcode': '66213'}}\n",
      "Length of student dictionary = 9\n",
      "Value of skills= ['JavaScript', 'Html', 'Python']\n",
      "['JavaScript', 'Html', 'Python']\n",
      "{'first_name': 'Sriharsha', 'last_name': 'Kata', 'Gender': 'Female', 'age': 22, 'Marital_status': False, 'skills': ['JavaScript', 'Html', 'Python', 'Angularjs', 'Hadoop'], 'country': 'USA', 'city': ['Overland park'], 'address': {'street': 'Craig street', 'zipcode': '66213'}}\n",
      "dict_keys(['first_name', 'last_name', 'Gender', 'age', 'Marital_status', 'skills', 'country', 'city', 'address'])\n",
      "dict_values(['Sriharsha', 'Kata', 'Female', 22, False, ['JavaScript', 'Html', 'Python', 'Angularjs', 'Hadoop'], 'USA', ['Overland park'], {'street': 'Craig street', 'zipcode': '66213'}])\n"
     ]
    }
   ],
   "source": [
    "Dog = {} #creating empty dog dictionary \n",
    "Dog = {\n",
    "    'Dog_name':None,\n",
    "    'Dog_color':None,\n",
    "    'Dog_Bread':None,\n",
    "    'Legs':None,\n",
    "    'Age':None,\n",
    "    }\n",
    "print(Dog)\n",
    "Student={}  #creating student dictionary  with keys and values\n",
    "Student = {\n",
    "    'first_name':'Sriharsha',\n",
    "    'last_name':'Kata',\n",
    "    'Gender':'Female',\n",
    "    'age':22,\n",
    "    'Marital_status':False,\n",
    "    'skills':['JavaScript', 'Html', 'Python'],\n",
    "    'country':'USA',\n",
    "    'city':['Overland park'],\n",
    "    'address':{\n",
    "        'street':'Craig street',\n",
    "        'zipcode':'66213'\n",
    "    }\n",
    "    }\n",
    "print(Student) #printing student dictionary \n",
    "print('Length of student dictionary =',len(Student)) #printing the length of dictionary\n",
    "print('Value of skills=',Student['skills']) #printing values of skills\n",
    "print(Student.get('skills')) #geting the values of skills\n",
    "Student['skills'].append(\"Angularjs\") #adding values to skills\n",
    "Student['skills'].append(\"Hadoop\")\n",
    "print(Student)\n",
    "print(Student.keys()) #printing keys of student list\n",
    "print(Student.values()) #printing the values of student list"
   ]
  },
  {
   "cell_type": "markdown",
   "id": "5eb9f647",
   "metadata": {},
   "source": [
    "# Q3"
   ]
  },
  {
   "cell_type": "code",
   "execution_count": 22,
   "id": "3b875ec3",
   "metadata": {},
   "outputs": [
    {
     "name": "stdout",
     "output_type": "stream",
     "text": [
      "('shaun', 'brett', 'mike', 'lisa', 'jenny', 'sarah')\n"
     ]
    },
    {
     "data": {
      "text/plain": [
       "6"
      ]
     },
     "execution_count": 22,
     "metadata": {},
     "output_type": "execute_result"
    }
   ],
   "source": [
    "Brothers = ('shaun', 'brett','mike') #creating brother and sister tuples\n",
    "Sisters = ('lisa','jenny','sarah')\n",
    "Siblings = Brothers + Sisters #joining brothe and sister tuples to siblings\n",
    "print(Siblings) #printing sibling tuples\n",
    "len(Siblings) #length of siblings"
   ]
  },
  {
   "cell_type": "markdown",
   "id": "3fba6c53",
   "metadata": {},
   "source": [
    "# Q4"
   ]
  },
  {
   "cell_type": "code",
   "execution_count": 42,
   "id": "8b6698aa",
   "metadata": {},
   "outputs": [
    {
     "data": {
      "text/plain": [
       "7"
      ]
     },
     "execution_count": 42,
     "metadata": {},
     "output_type": "execute_result"
    }
   ],
   "source": [
    "it_companies = {'Facebook', 'Google', 'Microsoft', 'Apple', 'IBM', 'Oracle', 'Amazon'}\n",
    "A = {19, 22, 24, 20, 25, 26}\n",
    "B = {19, 22, 20, 25, 26, 24, 28, 27}\n",
    "age = [22, 19, 24, 25, 26, 24, 25, 24]\n",
    "\n",
    "len(it_companies) #length of it_companies\n"
   ]
  },
  {
   "cell_type": "code",
   "execution_count": 43,
   "id": "39ab09fe",
   "metadata": {},
   "outputs": [
    {
     "name": "stdout",
     "output_type": "stream",
     "text": [
      "{'Apple', 'Twitter', 'Google', 'IBM', 'Microsoft', 'Amazon', 'Facebook', 'Oracle'}\n"
     ]
    }
   ],
   "source": [
    "it_companies.add('Twitter') #adding twitter to the it_companies set and printing it\n",
    "print(it_companies)"
   ]
  },
  {
   "cell_type": "code",
   "execution_count": 44,
   "id": "f9fbff79",
   "metadata": {},
   "outputs": [
    {
     "name": "stdout",
     "output_type": "stream",
     "text": [
      "{'Twitter', 'Google', 'Amazon', 'Chase', 'Walmart', 'Oracle', 'Apple', 'Microsoft', 'Facebook', 'IBM'}\n"
     ]
    }
   ],
   "source": [
    "it_companies.update(['Chase','Walmart']) #inserting it_companies set with multiple it companies and printing it\n",
    "print(it_companies)"
   ]
  },
  {
   "cell_type": "code",
   "execution_count": 45,
   "id": "04d51d3c",
   "metadata": {},
   "outputs": [
    {
     "name": "stdout",
     "output_type": "stream",
     "text": [
      "{'Twitter', 'Google', 'Amazon', 'Walmart', 'Oracle', 'Apple', 'Microsoft', 'Facebook', 'IBM'}\n"
     ]
    }
   ],
   "source": [
    "it_companies.remove('Chase') #removing one company from the set\n",
    "print(it_companies)"
   ]
  },
  {
   "cell_type": "code",
   "execution_count": 46,
   "id": "2909f334",
   "metadata": {},
   "outputs": [
    {
     "name": "stdout",
     "output_type": "stream",
     "text": [
      "{19, 20, 22, 24, 25, 26, 27, 28}\n"
     ]
    }
   ],
   "source": [
    "C =A.union(B) #joining sets A and B\n",
    "print(C)"
   ]
  },
  {
   "cell_type": "code",
   "execution_count": 47,
   "id": "1e829e1a",
   "metadata": {},
   "outputs": [
    {
     "name": "stdout",
     "output_type": "stream",
     "text": [
      "{19, 20, 22, 24, 25, 26}\n"
     ]
    }
   ],
   "source": [
    "C =A.intersection(B) #intersecting sets A and B\n",
    "print(C)"
   ]
  },
  {
   "cell_type": "code",
   "execution_count": 48,
   "id": "d0c3bf8f",
   "metadata": {},
   "outputs": [
    {
     "name": "stdout",
     "output_type": "stream",
     "text": [
      "True\n"
     ]
    }
   ],
   "source": [
    "print(A.issubset(B)) #Finding A is subset to B or not"
   ]
  },
  {
   "cell_type": "code",
   "execution_count": 49,
   "id": "5d4021c4",
   "metadata": {},
   "outputs": [
    {
     "name": "stdout",
     "output_type": "stream",
     "text": [
      "False\n"
     ]
    }
   ],
   "source": [
    "print(A.isdisjoint(B)) #Finding A and B are disjoint sets or not"
   ]
  },
  {
   "cell_type": "code",
   "execution_count": 50,
   "id": "49a490b9",
   "metadata": {},
   "outputs": [
    {
     "name": "stdout",
     "output_type": "stream",
     "text": [
      "{19, 20, 22, 24, 25, 26, 27, 28}\n"
     ]
    }
   ],
   "source": [
    "D = A.union(B) #joining A and B\n",
    "print(D)"
   ]
  },
  {
   "cell_type": "code",
   "execution_count": 51,
   "id": "0544acbd",
   "metadata": {},
   "outputs": [
    {
     "name": "stdout",
     "output_type": "stream",
     "text": [
      "{19, 20, 22, 24, 25, 26, 27, 28}\n"
     ]
    }
   ],
   "source": [
    "E = B.union(A) #joing B and A\n",
    "print(E)"
   ]
  },
  {
   "cell_type": "code",
   "execution_count": 52,
   "id": "1c65b8f2",
   "metadata": {},
   "outputs": [
    {
     "name": "stdout",
     "output_type": "stream",
     "text": [
      "{19, 20, 22, 24, 25, 26, 27, 28}\n"
     ]
    }
   ],
   "source": [
    "F = D.union(E) #Joining A with B and B with A\n",
    "print(F)"
   ]
  },
  {
   "cell_type": "code",
   "execution_count": 53,
   "id": "72efc520",
   "metadata": {},
   "outputs": [
    {
     "name": "stdout",
     "output_type": "stream",
     "text": [
      "{27, 28}\n"
     ]
    }
   ],
   "source": [
    "print(A.symmetric_difference(B)) #printingsymmetric_difference"
   ]
  },
  {
   "cell_type": "code",
   "execution_count": 54,
   "id": "a2b7153e",
   "metadata": {},
   "outputs": [],
   "source": [
    "del it_companies #deleting all the sets\n",
    "del A\n",
    "del B\n"
   ]
  },
  {
   "cell_type": "code",
   "execution_count": 37,
   "id": "0c631976",
   "metadata": {},
   "outputs": [
    {
     "name": "stdout",
     "output_type": "stream",
     "text": [
      "{19, 22, 24, 25, 26}\n"
     ]
    },
    {
     "data": {
      "text/plain": [
       "8"
      ]
     },
     "execution_count": 37,
     "metadata": {},
     "output_type": "execute_result"
    }
   ],
   "source": [
    "age = [22, 19, 24, 25, 26, 24, 25, 24] #Converting the ages to a set and compare the length of the list and the set.\n",
    "ages_st = set(age)\n",
    "print(ages_st)\n",
    "len(age)"
   ]
  },
  {
   "cell_type": "code",
   "execution_count": 55,
   "id": "99cf088b",
   "metadata": {},
   "outputs": [
    {
     "data": {
      "text/plain": [
       "5"
      ]
     },
     "execution_count": 55,
     "metadata": {},
     "output_type": "execute_result"
    }
   ],
   "source": [
    "len(ages_st) #length of ages set"
   ]
  },
  {
   "cell_type": "markdown",
   "id": "ad8941aa",
   "metadata": {},
   "source": [
    "# Q5"
   ]
  },
  {
   "cell_type": "code",
   "execution_count": 56,
   "id": "8a177c8c",
   "metadata": {},
   "outputs": [
    {
     "name": "stdout",
     "output_type": "stream",
     "text": [
      "Area : 2826.9\n",
      "Circumference : 188.46\n",
      "Enter the radius value: 5\n",
      "for given radius =  5 \n",
      "Area : 78.525\n"
     ]
    }
   ],
   "source": [
    "rad1 = 30\n",
    "\n",
    "#Area of a circle \n",
    "area_of_circle = 3.141 * rad1 * rad1\n",
    "print(\"Area :\",area_of_circle)\n",
    "\n",
    "#Circumference\n",
    "circum_of_circle = 2 * 3.141 * rad1\n",
    "print(\"Circumference :\",circum_of_circle)\n",
    "\n",
    "rad2 = int(input(\"Enter the radius value: \"))\n",
    "Area = 3.141 * rad2 * rad2\n",
    "\n",
    "print(\"for given radius = \",rad2,\"\\nArea :\",Area)"
   ]
  },
  {
   "cell_type": "markdown",
   "id": "4cfc7602",
   "metadata": {},
   "source": [
    "# Q6"
   ]
  },
  {
   "cell_type": "code",
   "execution_count": 59,
   "id": "48a72f1a",
   "metadata": {},
   "outputs": [
    {
     "name": "stdout",
     "output_type": "stream",
     "text": [
      "['I', 'am', 'a', 'teacher', 'and', 'I', 'love', 'to', 'inspire', 'and', 'teach', 'people']\n",
      "8\n"
     ]
    }
   ],
   "source": [
    "a = 'I am a teacher and I love to inspire and teach people'\n",
    "b = []\n",
    " \n",
    "for i in a.split():\n",
    "       b.append(i)\n",
    "\n",
    "print(b)\n",
    "\n",
    "c = 0\n",
    "for i in b:\n",
    "      if b.count(i) == 1:\n",
    "            c = c+1\n",
    "\n",
    "            \n",
    "print(c)"
   ]
  },
  {
   "cell_type": "markdown",
   "id": "2db012d7",
   "metadata": {},
   "source": [
    "# Q7"
   ]
  },
  {
   "cell_type": "code",
   "execution_count": 58,
   "id": "35881b66",
   "metadata": {},
   "outputs": [
    {
     "name": "stdout",
     "output_type": "stream",
     "text": [
      "Name\tAge\tCountry\tCity\n",
      "Asabeneh\t250\tFinland\tHelsinki\n"
     ]
    }
   ],
   "source": [
    "print(\"Name\\tAge\\tCountry\\tCity\\nAsabeneh\\t250\\tFinland\\tHelsinki\") # tab escape sequence"
   ]
  },
  {
   "cell_type": "markdown",
   "id": "6b9a4f1a",
   "metadata": {},
   "source": [
    "# Q8"
   ]
  },
  {
   "cell_type": "code",
   "execution_count": 60,
   "id": "55a3f067",
   "metadata": {},
   "outputs": [
    {
     "name": "stdout",
     "output_type": "stream",
     "text": [
      "The area of a circle with radius 10 is 314 meters square.\n"
     ]
    }
   ],
   "source": [
    "radius = 10\n",
    "area = 3.14 * radius ** 2\n",
    "\n",
    "print('The area of a circle with radius',radius,'is %.0f' %(area),'meters square.')"
   ]
  },
  {
   "cell_type": "markdown",
   "id": "a37c233f",
   "metadata": {},
   "source": [
    "# Q9"
   ]
  },
  {
   "cell_type": "code",
   "execution_count": 61,
   "id": "72db17b7",
   "metadata": {},
   "outputs": [
    {
     "name": "stdout",
     "output_type": "stream",
     "text": [
      "Enter the length:4\n",
      "Enter the value:150\n",
      "Enter the value:155\n",
      "Enter the value:145\n",
      "Enter the value:148\n",
      "[68.0388, 70.30676, 65.77083999999999, 67.131616]\n"
     ]
    }
   ],
   "source": [
    "max = eval(input('Enter the length:'))# To take lenghts input\n",
    "input1 = []\n",
    "input2 = []\n",
    "for i in range (0,max,1) :\n",
    "    x = eval(input('Enter the value:')) #taking input values\n",
    "    input1.append(x)\n",
    "#reads weights (lbs.) of N students into a list and convert these weights to kilograms in a separate list using Loop\n",
    "for i in range (0,max,1) : \n",
    "      Y = input1[i] * 0.453592\n",
    "      input2.append(Y)\n",
    "print(input2)\n"
   ]
  },
  {
   "cell_type": "code",
   "execution_count": null,
   "id": "19f5eb35",
   "metadata": {},
   "outputs": [],
   "source": [
    "import numpy as np  #importing important python libraries\n",
    "import matplotlib.pyplot as plt  \n",
    "import pandas as pd  \n",
    "dataframe=pd.read_csv(\"dataset.csv\")#reading the dataset\n",
    "x= dataframe['Feature'].values  \n",
    "y= dataframe['Class'].values \n",
    "#dividing data equally into training and testing data\n",
    "from sklearn.model_selection import train_test_split  \n",
    "features_tr, features_te, label_tr, label_te= train_test_split(x, y, random_state=0, train_size= 0.5 ) \n",
    "#reshaping the data feature and labes into 2D array\n",
    "features_tr = np.array(features_tr).reshape(-1,1)\n",
    "features_te = np.array(features_te).reshape(-1,1)\n",
    "#Normalizing data\n",
    "from sklearn.preprocessing import StandardScaler    \n",
    "normalization= StandardScaler()    \n",
    "features_tr= normalization.fit_transform(features_tr)    \n",
    "features_te= normalization.transform(features_te)  \n",
    "#fiting the training data into classifier model \n",
    "from sklearn.neighbors import KNeighborsClassifier  \n",
    "model= KNeighborsClassifier(n_neighbors=3 )  \n",
    "model.fit(features_tr, label_tr)\n",
    "#Predicting the test set result  \n",
    "predict_class= model.predict(features_te)  \n",
    "print(\"Predicted Test Samples Output:\",predict_class)\n",
    "\n",
    "#creating a confusion matrix\n",
    "from sklearn.metrics import confusion_matrix  \n",
    "model_evaluation= confusion_matrix(label_te, predict_class) \n",
    "print(\"Confusion matrix:\\n\",model_evaluation)\n",
    "#finding model accuracy\n",
    "count=sum(sum(model_evaluation))\n",
    "accuracy=(model_evaluation[0,0]+model_evaluation[1,1])/count\n",
    "print ('Accuracy =: ', accuracy)\n",
    "# finding model sensitivity\n",
    "sense = model_evaluation[0,0]/(model_evaluation[0,0]+model_evaluation[0,1])\n",
    "print('Sensitivity =: ', sense )\n",
    "#finding model specificity\n",
    "speci = model_evaluation[1,1]/(model_evaluation[1,0]+model_evaluation[1,1])\n",
    "print('Specificity =: ', speci)"
   ]
  }
 ],
 "metadata": {
  "kernelspec": {
   "display_name": "Python 3 (ipykernel)",
   "language": "python",
   "name": "python3"
  },
  "language_info": {
   "codemirror_mode": {
    "name": "ipython",
    "version": 3
   },
   "file_extension": ".py",
   "mimetype": "text/x-python",
   "name": "python",
   "nbconvert_exporter": "python",
   "pygments_lexer": "ipython3",
   "version": "3.9.12"
  }
 },
 "nbformat": 4,
 "nbformat_minor": 5
}
